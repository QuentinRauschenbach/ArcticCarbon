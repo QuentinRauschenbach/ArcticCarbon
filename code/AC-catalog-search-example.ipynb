{
 "cells": [
  {
   "cell_type": "markdown",
   "id": "1b32954e-d152-45be-b09d-9be309c5af4f",
   "metadata": {},
   "source": [
    "# Catalog Search Function ```modelsearch``` Example"
   ]
  },
  {
   "cell_type": "markdown",
   "id": "ac355a3a-61b9-464c-8708-43fc8fc535f6",
   "metadata": {},
   "source": [
    "This notebook demonstrates how to use the `modelsearch` function to search a CMIP6 catalog.\\\n",
    "The search provides an overview of key metadata of CMIP6 variables, such as:\n",
    "\n",
    "- The CMIP6 table to which the variable belongs\n",
    "- The unit in which the variable is stored\n",
    "- Example values for the variable\n",
    "- A file path for direct access to more detailed data"
   ]
  },
  {
   "cell_type": "code",
   "execution_count": 1,
   "id": "058e1498-4693-4607-bc59-85d2dae7475c",
   "metadata": {},
   "outputs": [
    {
     "name": "stdout",
     "output_type": "stream",
     "text": [
      "DONE\n"
     ]
    }
   ],
   "source": [
    "import intake\n",
    "import logging\n",
    "\n",
    "# Import custom utility functions\n",
    "import custom_logger_functions as lgfct  # setting up the logger\n",
    "import search_cmip6_catalog as searching # contains the `modelsearch` function used to query the CMIP6 catalog\n",
    "\n",
    "\n",
    "print(\"DONE\")"
   ]
  },
  {
   "cell_type": "code",
   "execution_count": 2,
   "id": "a2e320fa-e503-4bd7-9caf-6c6feb88ad2e",
   "metadata": {},
   "outputs": [],
   "source": [
    "logging_level = \"debug\" # Set the logging level to \"debug\" to get detailed logs during the search process.\n",
    "logger = lgfct.build_terminal_logger(logging_level, logger_name=\"processing\")"
   ]
  },
  {
   "cell_type": "code",
   "execution_count": 3,
   "id": "211f0fc0-2b3b-44fd-8482-ba5ae05b2f01",
   "metadata": {},
   "outputs": [
    {
     "name": "stderr",
     "output_type": "stream",
     "text": [
      "/sw/spack-levante/mambaforge-22.9.0-2-Linux-x86_64-kptncg/lib/python3.10/site-packages/intake_esm/cat.py:264: DtypeWarning: Columns (21,22,23) have mixed types. Specify dtype option on import or set low_memory=False.\n",
      "  df = pd.read_csv(\n"
     ]
    }
   ],
   "source": [
    "# Open the CMIP6 catalog from the specified file path.\n",
    "# This file contains metadata about the available CMIP6 datasets.\n",
    "catalog = intake.open_esm_datastore(\"/work/ik1017/Catalogs/dkrz_cmip6_disk.json\")"
   ]
  },
  {
   "cell_type": "code",
   "execution_count": 5,
   "id": "a5648766-c8fe-4fe7-b090-eef15fcabaa1",
   "metadata": {},
   "outputs": [
    {
     "name": "stderr",
     "output_type": "stream",
     "text": [
      "VARIABLE:  fFire\n",
      "table_id:  Lmon\n",
      "long_name: Carbon Mass Flux into Atmosphere Due to CO2 Emission from Fire Excluding Land-Use Change [kgC m-2 s-1]\n",
      "units:     {'kg m-2 s-1'}\n",
      "dummy:     /work/ik1017/CMIP6/data/CMIP6/CMIP/AS-RCEC/TaiESM1/historical/r1i1p1f1/Lmon/fFire/gn/v20200624/fFire_Lmon_TaiESM1_historical_r1i1p1f1_gn_185001-201412.nc\n",
      "mean for t=0: 6.487290565848625e-11\n",
      "\n"
     ]
    }
   ],
   "source": [
    "# Lets just try it out for the MPI-ESM1-2-LR\n",
    "\n",
    "# Define a list of CMIP6 variable names you want to search for\n",
    "variables  = [\"fgco2\", \"cVeg\", \"fLuc\", \"gpp\", \"nbp\", \"fFire\"]\n",
    "\n",
    "# Loop through each variable and perform the search\n",
    "# The search will retrieve metadata for each variable from the catalog, filtered by the \"historical\" scenario and the MPI-ESM1-2-LR model.\n",
    "for variable in variables[-1:]:\n",
    "    activity_id, table_id, modellist, modelcenters, ensemblemembers, unit = searching.modelsearch( #grid_id\n",
    "        catalog, \n",
    "        \"historical\",          # example of scenario name\n",
    "        variable,              # variable name (e.g., fgco2, cVeg)\n",
    "        logger,                # logger for printing the information\n",
    "        #model = \"MPI-ESM1-2-LR\"  # filter by e.g. MPI-ESM1-2-LR \n",
    "        # you could also filter by ensemble member with e.g. member=\"r1i1p1f1\"\n",
    "    )\n",
    "\n",
    "# The `modelsearch` function returns for each search query the following information:\n",
    "# - activity_id:     A string that identifies the activity (e.g., \"CMIP\" for \"historical\").\n",
    "# - table_id:        A string that identifies the CMIP6 table containing the variable (e.g., \"Amon\").\n",
    "# - modellist:       A list of models that have data for the given variable (if a specific model is specified, only that model will be returned).\n",
    "# - modelcenters:    A dictionary where the keys are model names, and the values are the corresponding institutions (model centers).\n",
    "# - ensemblemembers: A dictionary where the keys are model names and the values are lists of available ensemble members for that variable.\n",
    "# - unit:            A string with the unit for later choosing the right processing command"
   ]
  },
  {
   "cell_type": "code",
   "execution_count": 10,
   "id": "f541b938-ca2e-4e8d-a721-6c20a524fa1e",
   "metadata": {},
   "outputs": [
    {
     "data": {
      "text/plain": [
       "('CMIP',\n",
       " 'Lmon',\n",
       " ['MPI-ESM1-2-LR'],\n",
       " {'MPI-ESM1-2-LR': 'MPI-M'},\n",
       " {'MPI-ESM1-2-LR': ['r1i1p1f1',\n",
       "   'r2i1p1f1',\n",
       "   'r3i1p1f1',\n",
       "   'r4i1p1f1',\n",
       "   'r5i1p1f1',\n",
       "   'r6i1p1f1',\n",
       "   'r7i1p1f1',\n",
       "   'r8i1p1f1',\n",
       "   'r9i1p1f1',\n",
       "   'r10i1p1f1',\n",
       "   'r11i1p1f1',\n",
       "   'r12i1p1f1',\n",
       "   'r13i1p1f1',\n",
       "   'r14i1p1f1',\n",
       "   'r15i1p1f1',\n",
       "   'r16i1p1f1',\n",
       "   'r17i1p1f1',\n",
       "   'r18i1p1f1',\n",
       "   'r19i1p1f1',\n",
       "   'r20i1p1f1',\n",
       "   'r21i1p1f1',\n",
       "   'r22i1p1f1',\n",
       "   'r23i1p1f1',\n",
       "   'r24i1p1f1',\n",
       "   'r25i1p1f1',\n",
       "   'r26i1p1f1',\n",
       "   'r27i1p1f1',\n",
       "   'r28i1p1f1',\n",
       "   'r29i1p1f1',\n",
       "   'r30i1p1f1',\n",
       "   'r31i1p1f1',\n",
       "   'r32i1p1f1',\n",
       "   'r33i1p1f1',\n",
       "   'r34i1p1f1',\n",
       "   'r35i1p1f1',\n",
       "   'r36i1p1f1',\n",
       "   'r37i1p1f1',\n",
       "   'r38i1p1f1',\n",
       "   'r39i1p1f1',\n",
       "   'r40i1p1f1',\n",
       "   'r41i1p1f1',\n",
       "   'r42i1p1f1',\n",
       "   'r43i1p1f1',\n",
       "   'r44i1p1f1',\n",
       "   'r45i1p1f1',\n",
       "   'r46i1p1f1',\n",
       "   'r47i1p1f1',\n",
       "   'r48i1p1f1',\n",
       "   'r49i1p1f1',\n",
       "   'r50i1p1f1']})"
      ]
     },
     "execution_count": 10,
     "metadata": {},
     "output_type": "execute_result"
    }
   ],
   "source": [
    "activity_id, table_id, modellist, modelcenters, ensemblemembers"
   ]
  },
  {
   "cell_type": "code",
   "execution_count": null,
   "id": "e2aade03-0fd0-4f29-9d27-95a8f80fa92e",
   "metadata": {},
   "outputs": [],
   "source": []
  }
 ],
 "metadata": {
  "kernelspec": {
   "display_name": "1 Python 3 (based on the module python3/2023.01)",
   "language": "python",
   "name": "python3_2023_01"
  },
  "language_info": {
   "codemirror_mode": {
    "name": "ipython",
    "version": 3
   },
   "file_extension": ".py",
   "mimetype": "text/x-python",
   "name": "python",
   "nbconvert_exporter": "python",
   "pygments_lexer": "ipython3",
   "version": "3.10.10"
  }
 },
 "nbformat": 4,
 "nbformat_minor": 5
}
