{
 "cells": [
  {
   "cell_type": "markdown",
   "metadata": {},
   "source": [
    "# Create CMIP6 Grid-Area Files"
   ]
  },
  {
   "cell_type": "markdown",
   "metadata": {},
   "source": [
    "This notebook extracts all available grid-area files from all CMIP6 models and stores them in a new output path.\\\n",
    "Additionally, it calculates the grid-area for all different sea-ice concentration grids for each model."
   ]
  },
  {
   "cell_type": "markdown",
   "metadata": {},
   "source": [
    "## Import modules"
   ]
  },
  {
   "cell_type": "code",
   "execution_count": 1,
   "metadata": {},
   "outputs": [
    {
     "name": "stdout",
     "output_type": "stream",
     "text": [
      "DONE\n"
     ]
    }
   ],
   "source": [
    "import numpy as np\n",
    "import glob          #  Unix style pathname pattern expansion\n",
    "import os            #  Operating system\n",
    "import sys           #  system specific \n",
    "import pickle          \n",
    "import subprocess\n",
    "import intake\n",
    "import re\n",
    "import matplotlib.pyplot as plt\n",
    "import seaborn as sns\n",
    "from tqdm import tqdm # For progress bar\n",
    "from cdo import Cdo   # Climate Data operator \n",
    "cdo = Cdo()           # object to use CDO in python\n",
    "\n",
    "sys.path.insert(0, '/home/u/u301557/UHH-CMIP6/scripts/functions')\n",
    "import STOR_CMIP6\n",
    "\n",
    "print(\"DONE\")"
   ]
  },
  {
   "cell_type": "markdown",
   "metadata": {},
   "source": [
    "## Define Variables"
   ]
  },
  {
   "cell_type": "code",
   "execution_count": 2,
   "metadata": {},
   "outputs": [
    {
     "name": "stdout",
     "output_type": "stream",
     "text": [
      "SETUP:\n",
      " - /work/uo1227/u301557/ArcticCarbon/data/gridarea/\n"
     ]
    }
   ],
   "source": [
    "scenarios = ['historical',\n",
    "             'ssp119',\n",
    "             'ssp126',  \n",
    "              'ssp370', \n",
    "             'ssp245',\n",
    "             'ssp585', \n",
    "             'piControl',\n",
    "             '1pctCO2']\n",
    "\n",
    "subfolders = STOR_CMIP6.subfolders                             # Dictionary with names for the subfolders for each scenario \n",
    "    \n",
    "basepath = '/pool/data/CMIP6/data/'                            # where CMIP6 model data is stored\n",
    "outpath  = '/work/uo1227/u301557/ArcticCarbon/data/gridarea/'    # change to your own outpath                                 \n",
    "\n",
    "print(\"SETUP:\")\n",
    "print(\" - \"+ outpath)"
   ]
  },
  {
   "cell_type": "markdown",
   "metadata": {
    "tags": []
   },
   "source": [
    "# Iterative loop to get areacello and areacella"
   ]
  },
  {
   "cell_type": "markdown",
   "metadata": {},
   "source": [
    "## Functions"
   ]
  },
  {
   "cell_type": "markdown",
   "metadata": {},
   "source": [
    "### Create Model List"
   ]
  },
  {
   "cell_type": "code",
   "execution_count": 3,
   "metadata": {},
   "outputs": [],
   "source": [
    "def Model_Search_by_Project(basepath,projects,debug=False):\n",
    "    \"\"\"\n",
    "    Creates a dictionary of model centers with the corresponding models depending on the CMIP6 project(s)\n",
    "\n",
    "    Parameters\n",
    "    ----------\n",
    "    basepath : str\n",
    "        Inpath where CMIP6 data is stored.\n",
    "    projects : list\n",
    "        Name of CMIP6 projects as strings to check for participating modelling centers.\n",
    "    debug : boolean\n",
    "        Controls print statements. The default is False.\n",
    "\n",
    "    Returns\n",
    "    -------\n",
    "    allmodels : dict\n",
    "        All participating models sorted by modelling centers.\n",
    "        allmodels = {modelcenter : list of models}\n",
    "\n",
    "    \"\"\" \n",
    "    \n",
    "    \n",
    "    allmodels = {}\n",
    "    num = 0\n",
    "\n",
    "    modelcenters = [os.path.basename(x) for x in glob.glob(basepath+\"/\"+projects[0]+\"/*\")]\n",
    "    for modelcenter in modelcenters[:]:\n",
    "        models = [os.path.basename(x) for x in glob.glob(basepath+\"/\"+projects[0]+\"/\"+modelcenter+'/*')]\n",
    "        allmodels[modelcenter] = models\n",
    "        num += len(models)\n",
    "    if debug:\n",
    "        print(num)\n",
    "    \n",
    "    if len(projects)>1:\n",
    "        for project in projects[1:]:\n",
    "            modelcenters2 = [os.path.basename(x) for x in glob.glob(basepath+\"/\"+project+\"/*\")]\n",
    "            for modelcenter in modelcenters2[:]:\n",
    "                if modelcenter not in modelcenters:\n",
    "                    if debug:\n",
    "                        print(modelcenter)\n",
    "                    allmodels[modelcenter]=[]\n",
    "                models = [os.path.basename(x) for x in glob.glob(basepath+\"/\"+project+\"/\"+modelcenter+'/*')]\n",
    "                for model in models:\n",
    "                    if model not in allmodels[modelcenter]:\n",
    "                        if debug:\n",
    "                            print(model)\n",
    "                        allmodels[modelcenter].append(model)\n",
    "        if debug:\n",
    "            print(allmodels)\n",
    "\n",
    "    number = 0\n",
    "    for modelcenter in list(allmodels.keys()):\n",
    "        number += len(allmodels[modelcenter])\n",
    "    \n",
    "    print(\"Found\", number, \"models from\", len(list(allmodels.keys())), \"differnt modelcenters in\", projects)\n",
    "    \n",
    "    return allmodels"
   ]
  },
  {
   "cell_type": "markdown",
   "metadata": {},
   "source": [
    "### Copy grid-area file"
   ]
  },
  {
   "cell_type": "code",
   "execution_count": 7,
   "metadata": {},
   "outputs": [],
   "source": [
    "def copy_areacellx(areafiles, model, grid):\n",
    "    \"\"\"\n",
    "    Copy areacello/a files to outpath and set missing values to NaN.\n",
    "    Includes a special treatment for FGOALS-f3-L and FGOALS-g3.\n",
    "\n",
    "    Parameters\n",
    "    ----------\n",
    "    areafiles : list\n",
    "        All available areacello/a files.\n",
    "    model : string\n",
    "        Model name for file naming.\n",
    "    grid : string\n",
    "        Either \"ocean\" or \"atmos\" (depending on the areafiles).\n",
    "\n",
    "    Returns\n",
    "    -------\n",
    "    None.\n",
    "\n",
    "    \"\"\"\n",
    "    \n",
    "    grid_list = []\n",
    "    if model in [\"FGOALS-f3-L\",\"FGOALS-g3\"]:\n",
    "        special_treatment = \"-setctomiss,1.e+35 -invertlat \"\n",
    "    else:\n",
    "        special_treatment = \"\"\n",
    "        \n",
    "    for file in areafiles:\n",
    "        grid_type = file.split(\"/\")[-1].split(\"_\")[5].split(\".\")[0]\n",
    "        if grid_type not in grid_list:\n",
    "            grid_list.append(grid_type)\n",
    "        areafile = outpath+model+'_'+cmipvar[grid]+'_'+grid_type+'.nc'\n",
    "        \n",
    "        if not os.path.isfile(areafile):    \n",
    "            try: \n",
    "                cdo.copy(input =\"-chname,longitude,lon -chname,latitude,lat -setmissval,nan -setctomiss,0 -setattribute,\"+cmipvar[grid]+\"@comment='provided gridfile (\"+grid+\" grid)' \"+special_treatment+ file, output = areafile)\n",
    "                if os.path.isfile(areafile):\n",
    "                    print(\"... copy\",cmipvar[grid], \"as\",areafile)\n",
    "            except Exception as e:\n",
    "                print(e)\n",
    "                print(\"!!! failed to copy: \",cmipvar[grid], modelcenter, model)\n",
    "                \n",
    "    for grid_type in grid_list:\n",
    "        areafile = outpath+model+'_'+cmipvar[grid]+'_'+grid_type+'.nc'\n",
    "        if not os.path.isfile(areafile):\n",
    "            print(\"!!! failed to get\", areafile)"
   ]
  },
  {
   "cell_type": "markdown",
   "metadata": {},
   "source": [
    "### Calculate grid-area with cdo"
   ]
  },
  {
   "cell_type": "code",
   "execution_count": 6,
   "metadata": {},
   "outputs": [],
   "source": [
    "def calc_areacellx_cdo(sicfiles, model, grid):\n",
    "    \n",
    "    \"\"\"\n",
    "    Create grid-area file using CDO's \"gridarea\".\n",
    "    \n",
    "    Parameters\n",
    "    ----------\n",
    "    sicfiles : list\n",
    "        All available sea-ice area files.\n",
    "    model : string\n",
    "        Model name for file naming.\n",
    "    grid : string\n",
    "        Either \"ocean\" or \"atmos\" (depending on the sicfiles).\n",
    "\n",
    "    Returns\n",
    "    -------\n",
    "    None.\n",
    "\n",
    "    \"\"\"\n",
    "    \n",
    "    grid_list = []\n",
    "    \n",
    "    for file in sicfiles:\n",
    "        grid_type = file.split(\"/\")[-1].split(\"_\")[5].split(\".\")[0]\n",
    "        if grid_type not in grid_list:\n",
    "            grid_list.append(grid_type)\n",
    "        areafile_calc = outpath+model+'_'+grid_var+'_'+grid_type+'_calc.nc'\n",
    "        \n",
    "        if not os.path.isfile(areafile_calc):    \n",
    "            try: \n",
    "                cdo.chname(\"cell_area\", grid_var, input =f\"-chname,longitude,lon -chname,latitude,lat -setmissval,nan -setctomiss,0 -setattribute,cell_area@comment='gridfile calculated (via cdo gridarea)' -gridarea -selname,{var} \"+file, output = areafile_calc)\n",
    "                if os.path.isfile(areafile_calc):\n",
    "                    print(\"... calculate\",grid_var, \"with cdo as\",areafile_calc)\n",
    "            except Exception as e:\n",
    "                print(e)\n",
    "                print(\"!!! failed to calculate with cdo: \",grid_var, modelcenter, model)\n",
    "                \n",
    "    for grid_type in grid_list:\n",
    "        areafile_calc = outpath+model+'_'+grid_var+'_'+grid_type+'_calc.nc'\n",
    "        if not os.path.isfile(areafile_calc):\n",
    "            print(\"!!! cdo failed to get\", areafile_calc)"
   ]
  },
  {
   "cell_type": "markdown",
   "metadata": {},
   "source": [
    "## Loop"
   ]
  },
  {
   "cell_type": "code",
   "execution_count": 8,
   "metadata": {
    "tags": []
   },
   "outputs": [
    {
     "name": "stdout",
     "output_type": "stream",
     "text": [
      "Found 73 models from 33 differnt modelcenters in ['CMIP', 'ScenarioMIP']\n",
      "\n",
      "##############################                  atmos                  ##############################\n"
     ]
    },
    {
     "name": "stderr",
     "output_type": "stream",
     "text": [
      "  0%|          | 0/33 [00:00<?, ?it/s]"
     ]
    },
    {
     "name": "stdout",
     "output_type": "stream",
     "text": [
      "MIROC MIROC-ES2H\n",
      ". No siconc files\n",
      "MIROC MIROC6\n",
      ". No siconc files\n",
      "MIROC MIROC-ES2L\n",
      "... calculate areacella with cdo as /work/uo1227/u301557/ArcticCarbon/data/gridarea/MIROC-ES2L_areacella_gn_calc.nc\n"
     ]
    },
    {
     "name": "stderr",
     "output_type": "stream",
     "text": [
      "  3%|▎         | 1/33 [00:02<01:09,  2.17s/it]"
     ]
    },
    {
     "name": "stdout",
     "output_type": "stream",
     "text": [
      "CMCC CMCC-ESM2\n",
      "... calculate areacella with cdo as /work/uo1227/u301557/ArcticCarbon/data/gridarea/CMCC-ESM2_areacella_gn_calc.nc\n",
      "CMCC CMCC-CM2-SR5\n"
     ]
    },
    {
     "name": "stderr",
     "output_type": "stream",
     "text": [
      "  6%|▌         | 2/33 [00:09<02:42,  5.25s/it]"
     ]
    },
    {
     "name": "stdout",
     "output_type": "stream",
     "text": [
      "... calculate areacella with cdo as /work/uo1227/u301557/ArcticCarbon/data/gridarea/CMCC-CM2-SR5_areacella_gn_calc.nc\n",
      "CMCC CMCC-CM2-HR4\n",
      ". No siconc files\n",
      "KIOST KIOST-ESM\n",
      ". No siconc files\n",
      "CCCR-IITM IITM-ESM\n",
      ". No siconc files\n",
      "AS-RCEC TaiESM1\n"
     ]
    },
    {
     "name": "stderr",
     "output_type": "stream",
     "text": [
      " 15%|█▌        | 5/33 [00:14<01:12,  2.57s/it]"
     ]
    },
    {
     "name": "stdout",
     "output_type": "stream",
     "text": [
      "... calculate areacella with cdo as /work/uo1227/u301557/ArcticCarbon/data/gridarea/TaiESM1_areacella_gn_calc.nc\n",
      "NCAR CESM2-FV2\n",
      "NCAR CESM2-WACCM\n",
      "NCAR CESM2-WACCM-FV2\n",
      "NCAR CESM2\n"
     ]
    },
    {
     "name": "stderr",
     "output_type": "stream",
     "text": [
      " 21%|██        | 7/33 [00:14<00:40,  1.55s/it]"
     ]
    },
    {
     "name": "stdout",
     "output_type": "stream",
     "text": [
      "HAMMOZ-Consortium MPI-ESM-1-2-HAM\n",
      "UA MCM-UA-1-0\n",
      ". No siconc files\n",
      "MRI MRI-ESM2-0\n"
     ]
    },
    {
     "name": "stderr",
     "output_type": "stream",
     "text": [
      " 27%|██▋       | 9/33 [00:15<00:22,  1.08it/s]"
     ]
    },
    {
     "name": "stdout",
     "output_type": "stream",
     "text": [
      "MPI-M ICON-ESM-LR\n",
      ". No siconc files\n",
      "MPI-M MPI-ESM1-2-LR\n"
     ]
    },
    {
     "name": "stderr",
     "output_type": "stream",
     "text": [
      " 30%|███       | 10/33 [00:19<00:39,  1.72s/it]"
     ]
    },
    {
     "name": "stdout",
     "output_type": "stream",
     "text": [
      "MPI-M MPI-ESM1-2-HR\n",
      ". No siconc files\n",
      "CSIRO ACCESS-ESM1-5\n"
     ]
    },
    {
     "name": "stderr",
     "output_type": "stream",
     "text": [
      " 33%|███▎      | 11/33 [00:19<00:30,  1.40s/it]"
     ]
    },
    {
     "name": "stdout",
     "output_type": "stream",
     "text": [
      "CNRM-CERFACS CNRM-CM6-1\n",
      ". No siconc files\n",
      "CNRM-CERFACS CNRM-CM6-1-HR\n",
      ". No siconc files\n",
      "CNRM-CERFACS CNRM-ESM2-1\n"
     ]
    },
    {
     "name": "stderr",
     "output_type": "stream",
     "text": [
      " 36%|███▋      | 12/33 [00:20<00:26,  1.27s/it]"
     ]
    },
    {
     "name": "stdout",
     "output_type": "stream",
     "text": [
      "NUIST NESM3\n",
      ". No siconc files\n",
      "SNU SAM0-UNICON\n",
      "AWI AWI-CM-1-1-MR\n"
     ]
    },
    {
     "name": "stderr",
     "output_type": "stream",
     "text": [
      " 45%|████▌     | 15/33 [00:20<00:11,  1.54it/s]"
     ]
    },
    {
     "name": "stdout",
     "output_type": "stream",
     "text": [
      ". No siconc files\n",
      "AWI AWI-ESM-1-REcoM\n",
      ". No siconc files\n",
      "AWI AWI-ESM-1-1-LR\n",
      ". No siconc files\n",
      "MOHC HadGEM3-GC31-LL\n",
      ". No siconc files\n",
      "MOHC HadGEM3-GC31-MM\n",
      ". No siconc files\n",
      "MOHC UKESM1-0-LL\n",
      "... calculate areacella with cdo as /work/uo1227/u301557/ArcticCarbon/data/gridarea/UKESM1-0-LL_areacella_gn_calc.nc\n"
     ]
    },
    {
     "name": "stderr",
     "output_type": "stream",
     "text": [
      " 48%|████▊     | 16/33 [00:22<00:14,  1.21it/s]"
     ]
    },
    {
     "name": "stdout",
     "output_type": "stream",
     "text": [
      "EC-Earth-Consortium EC-Earth3-AerChem\n",
      ". No siconc files\n",
      "EC-Earth-Consortium EC-Earth3-Veg\n",
      "EC-Earth-Consortium EC-Earth3-LR\n",
      ". No siconc files\n",
      "EC-Earth-Consortium EC-Earth3\n"
     ]
    },
    {
     "name": "stderr",
     "output_type": "stream",
     "text": [
      " 52%|█████▏    | 17/33 [00:23<00:13,  1.15it/s]"
     ]
    },
    {
     "name": "stdout",
     "output_type": "stream",
     "text": [
      ". No siconc files\n",
      "EC-Earth-Consortium EC-Earth3-Veg-LR\n",
      "EC-Earth-Consortium EC-Earth3-CC\n",
      "EC-Earth-Consortium EC-Earth3P-VHR\n",
      ". No siconc files\n",
      "CCCma CanESM5\n"
     ]
    },
    {
     "name": "stderr",
     "output_type": "stream",
     "text": [
      " 55%|█████▍    | 18/33 [00:26<00:19,  1.28s/it]"
     ]
    },
    {
     "name": "stdout",
     "output_type": "stream",
     "text": [
      "CCCma CanESM5-CanOE\n",
      "BCC BCC-ESM1\n",
      ". No siconc files\n",
      "BCC BCC-CSM2-MR\n"
     ]
    },
    {
     "name": "stderr",
     "output_type": "stream",
     "text": [
      " 58%|█████▊    | 19/33 [00:26<00:13,  1.02it/s]"
     ]
    },
    {
     "name": "stdout",
     "output_type": "stream",
     "text": [
      ". No siconc files\n",
      "NOAA-GFDL GFDL-AM4\n",
      ". No siconc files\n",
      "NOAA-GFDL GFDL-ESM4\n"
     ]
    },
    {
     "name": "stderr",
     "output_type": "stream",
     "text": [
      " 61%|██████    | 20/33 [00:27<00:13,  1.07s/it]"
     ]
    },
    {
     "name": "stdout",
     "output_type": "stream",
     "text": [
      "... calculate areacella with cdo as /work/uo1227/u301557/ArcticCarbon/data/gridarea/GFDL-ESM4_areacella_gr1_calc.nc\n",
      "NOAA-GFDL GFDL-CM4\n",
      ". No siconc files\n",
      "CAMS CAMS-CSM1-0\n",
      ". No siconc files\n",
      "INM INM-CM5-0\n",
      "... calculate areacella with cdo as /work/uo1227/u301557/ArcticCarbon/data/gridarea/INM-CM5-0_areacella_gr1_calc.nc\n",
      "INM INM-CM4-8\n"
     ]
    },
    {
     "name": "stderr",
     "output_type": "stream",
     "text": [
      " 67%|██████▋   | 22/33 [00:29<00:10,  1.06it/s]"
     ]
    },
    {
     "name": "stdout",
     "output_type": "stream",
     "text": [
      "... calculate areacella with cdo as /work/uo1227/u301557/ArcticCarbon/data/gridarea/INM-CM4-8_areacella_gr1_calc.nc\n",
      "NIMS-KMA UKESM1-0-LL\n",
      "NIMS-KMA KACE-1-0-G\n",
      ". No siconc files\n",
      "IPSL IPSL-CM5A2-INCA\n",
      "... calculate areacella with cdo as /work/uo1227/u301557/ArcticCarbon/data/gridarea/IPSL-CM5A2-INCA_areacella_gr_calc.nc\n",
      "IPSL IPSL-CM6A-LR-INCA\n",
      ". No siconc files\n",
      "IPSL IPSL-CM6A-LR\n",
      "... calculate areacella with cdo as /work/uo1227/u301557/ArcticCarbon/data/gridarea/IPSL-CM6A-LR_areacella_gr_calc.nc\n"
     ]
    },
    {
     "name": "stderr",
     "output_type": "stream",
     "text": [
      " 73%|███████▎  | 24/33 [00:32<00:11,  1.31s/it]"
     ]
    },
    {
     "name": "stdout",
     "output_type": "stream",
     "text": [
      "FIO-QLNM FIO-ESM-2-0\n",
      ". No siconc files\n",
      "CAS CAS-ESM2-0\n",
      ". No siconc files\n",
      "CAS FGOALS-g3\n",
      ". No siconc files\n",
      "CAS FGOALS-f3-L\n"
     ]
    },
    {
     "name": "stderr",
     "output_type": "stream",
     "text": [
      " 79%|███████▉  | 26/33 [00:33<00:06,  1.13it/s]"
     ]
    },
    {
     "name": "stdout",
     "output_type": "stream",
     "text": [
      ". No siconc files\n",
      "THU CIESM\n",
      ". No siconc files\n",
      "NCC NorESM1-F\n",
      ". No siconc files\n",
      "NCC NorCPM1\n",
      "... calculate areacella with cdo as /work/uo1227/u301557/ArcticCarbon/data/gridarea/NorCPM1_areacella_gn_calc.nc\n",
      "NCC NorESM2-LM\n",
      "... calculate areacella with cdo as /work/uo1227/u301557/ArcticCarbon/data/gridarea/NorESM2-LM_areacella_gn_calc.nc\n",
      "NCC NorESM2-MM\n"
     ]
    },
    {
     "name": "stderr",
     "output_type": "stream",
     "text": [
      " 85%|████████▍ | 28/33 [00:35<00:05,  1.01s/it]"
     ]
    },
    {
     "name": "stdout",
     "output_type": "stream",
     "text": [
      "... calculate areacella with cdo as /work/uo1227/u301557/ArcticCarbon/data/gridarea/NorESM2-MM_areacella_gn_calc.nc\n",
      "NASA-GISS GISS-E2-1-H\n",
      "NASA-GISS GISS-E2-1-G-CC\n",
      "NASA-GISS GISS-E2-2-G\n",
      ". No siconc files\n",
      "NASA-GISS GISS-E2-1-G\n"
     ]
    },
    {
     "name": "stderr",
     "output_type": "stream",
     "text": [
      " 88%|████████▊ | 29/33 [00:36<00:03,  1.06it/s]"
     ]
    },
    {
     "name": "stdout",
     "output_type": "stream",
     "text": [
      "CSIRO-ARCCSS ACCESS-CM2\n",
      ". No siconc files\n",
      "E3SM-Project E3SM-1-1-ECA\n",
      "... calculate areacella with cdo as /work/uo1227/u301557/ArcticCarbon/data/gridarea/E3SM-1-1-ECA_areacella_gr_calc.nc\n",
      "E3SM-Project E3SM-1-0\n",
      ". No siconc files\n",
      "E3SM-Project E3SM-1-1\n"
     ]
    },
    {
     "name": "stderr",
     "output_type": "stream",
     "text": [
      " 94%|█████████▍| 31/33 [00:37<00:01,  1.29it/s]"
     ]
    },
    {
     "name": "stdout",
     "output_type": "stream",
     "text": [
      "... calculate areacella with cdo as /work/uo1227/u301557/ArcticCarbon/data/gridarea/E3SM-1-1_areacella_gr_calc.nc\n",
      "DWD MPI-ESM1-2-HR\n",
      ". No siconc files\n",
      "DKRZ MPI-ESM1-2-LR\n"
     ]
    },
    {
     "name": "stderr",
     "output_type": "stream",
     "text": [
      "100%|██████████| 33/33 [00:37<00:00,  1.14s/it]"
     ]
    },
    {
     "name": "stdout",
     "output_type": "stream",
     "text": [
      "DKRZ MPI-ESM1-2-HR\n",
      ". No siconc files\n",
      "DONE\n"
     ]
    },
    {
     "name": "stderr",
     "output_type": "stream",
     "text": [
      "\n"
     ]
    }
   ],
   "source": [
    "grids       = [\"ocean\", \"atmos\"]\n",
    "cmipvar     = {\"ocean\":\"areacello\", \"atmos\":\"areacella\"} \n",
    "siconc_grid = {\"ocean\":\"siconc\", \"atmos\":\"siconca\"} \n",
    "var = \"nbp\"\n",
    "grid_var = \"areacella\"\n",
    "\n",
    "allmodels   = Model_Search_by_Project(basepath,[\"CMIP\",\"ScenarioMIP\"])\n",
    "\n",
    "for grid in grids[1:]: \n",
    "    print()\n",
    "    print(\"##############################                  \" + grid +\"                  ##############################\")\n",
    "    for modelcenter in tqdm(list(allmodels.keys())[:], leave=True):\n",
    "        for model in allmodels[modelcenter]:\n",
    "            print(modelcenter, model)\n",
    "            availability_area = False\n",
    "            availability_sic  = False\n",
    "            \n",
    "            for scenario in scenarios:\n",
    "                #areafiles     = glob.glob(basepath+subfolders[scenario]+'/'+modelcenter+'/'+model+'/'+scenario+'/*/*/'+cmipvar[grid]+'/*/*/*.nc')\n",
    "                sicfiles      = glob.glob(basepath+subfolders[scenario]+'/'+modelcenter+'/'+model+'/'+scenario+f'/*/*/{var}/*/*/*.nc')\n",
    "                \n",
    "                #if len(areafiles)>0: #----------------------------------------------------- copy areacell file\n",
    "                #    copy_areacellx(areafiles, model, grid)\n",
    "                #    availability_area = True\n",
    "                if len(sicfiles)>0:  #----------------------------------------------------- calc areacell from sic file\n",
    "                    calc_areacellx_cdo(sicfiles, model, grid)\n",
    "                    availability_sic  = True\n",
    "                    \n",
    "            #if not availability_area:\n",
    "            #    print(\". No areacell files\")\n",
    "            if not availability_sic:\n",
    "                print(\". No siconc files\")\n",
    "print(\"DONE\")"
   ]
  },
  {
   "cell_type": "markdown",
   "metadata": {},
   "source": [
    "# Control"
   ]
  },
  {
   "cell_type": "markdown",
   "metadata": {},
   "source": [
    "## Check if gridareas are missing compared to last time"
   ]
  },
  {
   "cell_type": "code",
   "execution_count": 7,
   "metadata": {},
   "outputs": [
    {
     "name": "stdout",
     "output_type": "stream",
     "text": [
      "2\n",
      "CAS-ESM2-0_areacello_gn.nc\n",
      "ICON-ESM-LR_areacella_gn.nc\n"
     ]
    }
   ],
   "source": [
    "new = [x.split(\"/\")[-1] for x in glob.glob(outpath+\"*\")]\n",
    "\n",
    "old = [x.split(\"/\")[-1] for x in glob.glob('/work/uo1227/DATA/modelling/CMIP6/gridareas/'+\"*\")]\n",
    "#print(old)\n",
    "\n",
    "print(len(new)-len(old))\n",
    "for o in old:\n",
    "    if o not in new:\n",
    "        print(o)\n",
    "        \n",
    "for n in new:\n",
    "    if n not in old:\n",
    "        print(n)"
   ]
  },
  {
   "cell_type": "markdown",
   "metadata": {},
   "source": [
    "## Create modellist"
   ]
  },
  {
   "cell_type": "code",
   "execution_count": 9,
   "metadata": {},
   "outputs": [
    {
     "name": "stdout",
     "output_type": "stream",
     "text": [
      "['ACCESS-CM2', 'ACCESS-ESM1-5', 'AWI-CM-1-1-MR', 'AWI-ESM-1-1-LR', 'BCC-CSM2-MR', 'BCC-ESM1', 'CAMS-CSM1-0', 'CAS-ESM2-0', 'CESM2', 'CESM2-FV2', 'CESM2-WACCM', 'CESM2-WACCM-FV2', 'CIESM', 'CMCC-CM2-HR4', 'CMCC-CM2-SR5', 'CMCC-ESM2', 'CNRM-CM6-1', 'CNRM-CM6-1-HR', 'CNRM-ESM2-1', 'CanESM5', 'CanESM5-CanOE', 'E3SM-1-0', 'E3SM-1-1', 'E3SM-1-1-ECA', 'EC-Earth3', 'EC-Earth3-AerChem', 'EC-Earth3-CC', 'EC-Earth3-LR', 'EC-Earth3-Veg', 'EC-Earth3-Veg-LR', 'FGOALS-f3-L', 'FGOALS-g3', 'FIO-ESM-2-0', 'GFDL-CM4', 'GFDL-ESM4', 'GISS-E2-1-G', 'GISS-E2-1-G-CC', 'GISS-E2-1-H', 'GISS-E2-2-G', 'HadGEM3-GC31-LL', 'HadGEM3-GC31-MM', 'ICON-ESM-LR', 'INM-CM4-8', 'INM-CM5-0', 'IPSL-CM5A2-INCA', 'IPSL-CM6A-LR', 'IPSL-CM6A-LR-INCA', 'KIOST-ESM', 'MCM-UA-1-0', 'MIROC-ES2L', 'MIROC6', 'MPI-ESM-1-2-HAM', 'MPI-ESM1-2-HR', 'MPI-ESM1-2-LR', 'MRI-ESM2-0', 'NESM3', 'NorCPM1', 'NorESM1-F', 'NorESM2-LM', 'NorESM2-MM', 'SAM0-UNICON', 'TaiESM1', 'UKESM1-0-LL']\n",
      "63\n",
      "Available models: 63\n",
      "   61 available on ocean grid\n",
      "   53 available on atm grid\n",
      "Available different grids: ['gn', 'gr2', 'gr', 'gr1']\n"
     ]
    }
   ],
   "source": [
    "grid_diffs = []\n",
    "modellist  = []\n",
    "\n",
    "grid_dicto = {}\n",
    "grid_dicta = {}\n",
    "\n",
    "files = glob.glob(outpath+\"*\")\n",
    "for file in files[:]: \n",
    "    name  = file.split(\"/\")[-1]\n",
    "    model  = name.split(\"_\")[0]\n",
    "    domain = name.split(\"_\")[1]\n",
    "    grid   = name.split(\"_\")[2].split(\".\")[0]\n",
    "    \n",
    "    if grid not in grid_diffs: \n",
    "        grid_diffs.append(grid)\n",
    "    if domain == \"areacello\":\n",
    "        grid_dicto[model] = grid\n",
    "    if domain == \"areacella\":\n",
    "        grid_dicta[model] = grid\n",
    "    if model not in modellist: \n",
    "        modellist.append(model)\n",
    "        \n",
    "\n",
    "modellist.sort()\n",
    "print(modellist)\n",
    "print(len(modellist))\n",
    "print(\"Available models:\", len(modellist))\n",
    "print(f\"   {len(list(grid_dicto.keys()))} available on ocean grid\")\n",
    "print(f\"   {len(list(grid_dicta.keys()))} available on atm grid\")\n",
    "print(\"Available different grids:\", grid_diffs)\n"
   ]
  },
  {
   "cell_type": "code",
   "execution_count": null,
   "metadata": {},
   "outputs": [],
   "source": []
  }
 ],
 "metadata": {
  "kernelspec": {
   "display_name": "1 Python 3 (based on the module python3/2023.01)",
   "language": "python",
   "name": "python3_2023_01"
  },
  "language_info": {
   "codemirror_mode": {
    "name": "ipython",
    "version": 3
   },
   "file_extension": ".py",
   "mimetype": "text/x-python",
   "name": "python",
   "nbconvert_exporter": "python",
   "pygments_lexer": "ipython3",
   "version": "3.10.10"
  },
  "toc": {
   "base_numbering": 1,
   "nav_menu": {},
   "number_sections": true,
   "sideBar": true,
   "skip_h1_title": false,
   "title_cell": "Table of Contents",
   "title_sidebar": "Contents",
   "toc_cell": false,
   "toc_position": {},
   "toc_section_display": true,
   "toc_window_display": true
  },
  "varInspector": {
   "cols": {
    "lenName": 16,
    "lenType": 16,
    "lenVar": 40
   },
   "kernels_config": {
    "python": {
     "delete_cmd_postfix": "",
     "delete_cmd_prefix": "del ",
     "library": "var_list.py",
     "varRefreshCmd": "print(var_dic_list())"
    },
    "r": {
     "delete_cmd_postfix": ") ",
     "delete_cmd_prefix": "rm(",
     "library": "var_list.r",
     "varRefreshCmd": "cat(var_dic_list()) "
    }
   },
   "types_to_exclude": [
    "module",
    "function",
    "builtin_function_or_method",
    "instance",
    "_Feature"
   ],
   "window_display": false
  }
 },
 "nbformat": 4,
 "nbformat_minor": 4
}
