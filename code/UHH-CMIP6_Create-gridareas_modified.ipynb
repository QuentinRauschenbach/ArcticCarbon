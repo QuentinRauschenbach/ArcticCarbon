{
 "cells": [
  {
   "cell_type": "markdown",
   "metadata": {},
   "source": [
    "# Create CMIP6 Grid-Area Files"
   ]
  },
  {
   "cell_type": "markdown",
   "metadata": {},
   "source": [
    "This notebook extracts all available grid-area files from all CMIP6 models and stores them in a new output path.\\\n",
    "Additionally, it calculates the grid-area for all different sea-ice concentration (SIC) grids for each model.\n",
    "\n",
    "While it is originally written for SIC it was slighly modified to work with all variables from the CMIP6 catalog. Just change ```var``` and ```grid_var``` accordingly"
   ]
  },
  {
   "cell_type": "markdown",
   "metadata": {},
   "source": [
    "## Import modules"
   ]
  },
  {
   "cell_type": "code",
   "execution_count": 1,
   "metadata": {},
   "outputs": [
    {
     "name": "stdout",
     "output_type": "stream",
     "text": [
      "DONE\n"
     ]
    }
   ],
   "source": [
    "import numpy as np\n",
    "import glob          #  Unix style pathname pattern expansion\n",
    "import os            #  Operating system\n",
    "import sys           #  system specific \n",
    "import pickle          \n",
    "import subprocess\n",
    "import intake\n",
    "import re\n",
    "import matplotlib.pyplot as plt\n",
    "import seaborn as sns\n",
    "from tqdm import tqdm # For progress bar\n",
    "from cdo import Cdo   # Climate Data operator \n",
    "cdo = Cdo()           # object to use CDO in python\n",
    "\n",
    "print(\"DONE\")"
   ]
  },
  {
   "cell_type": "markdown",
   "metadata": {},
   "source": [
    "## Define Variables"
   ]
  },
  {
   "cell_type": "code",
   "execution_count": 2,
   "metadata": {},
   "outputs": [
    {
     "name": "stdout",
     "output_type": "stream",
     "text": [
      "SETUP:\n",
      " - /work/uo1227/u301557/ArcticCarbon/data/gridarea/\n"
     ]
    }
   ],
   "source": [
    "basepath = '/pool/data/CMIP6/data/'                              # where CMIP6 model data is stored\n",
    "outpath  = '/work/uo1227/u301557/ArcticCarbon/data/gridarea/'    # change to your own outpath   \n",
    "\n",
    "var = \"nbp\"\n",
    "grid_var = \"areacella\" # areacella for land and atmospheric variables, areacello for ocean variables\n",
    "\n",
    "print(\"SETUP:\")\n",
    "print(\" - \"+ outpath)\n",
    "\n",
    "scenarios = ['historical',\n",
    "             'ssp119',\n",
    "             'ssp126',  \n",
    "              'ssp370', \n",
    "             'ssp245',\n",
    "             'ssp585', \n",
    "             'piControl',\n",
    "             '1pctCO2']\n",
    "\n",
    "subfolders = {'historical':'CMIP',\n",
    "              'piControl':'CMIP',\n",
    "              '1pctCO2':'CMIP',     \n",
    "              'ssp245':'ScenarioMIP',\n",
    "              'ssp126':'ScenarioMIP',\n",
    "              'ssp585':'ScenarioMIP',\n",
    "              'ssp119':'ScenarioMIP',\n",
    "              'ssp370': 'ScenarioMIP',\n",
    "              'ssp460': 'ScenarioMIP'} "
   ]
  },
  {
   "cell_type": "markdown",
   "metadata": {
    "tags": []
   },
   "source": [
    "# Iterative loop to get areacello and areacella"
   ]
  },
  {
   "cell_type": "markdown",
   "metadata": {},
   "source": [
    "## Functions"
   ]
  },
  {
   "cell_type": "markdown",
   "metadata": {
    "jp-MarkdownHeadingCollapsed": true
   },
   "source": [
    "### Create Model List"
   ]
  },
  {
   "cell_type": "code",
   "execution_count": 41,
   "metadata": {},
   "outputs": [],
   "source": [
    "def Model_Search_by_Project(basepath: str, projects: list, debug=False):\n",
    "    \"\"\"\n",
    "    Creates a dictionary of model centers with the corresponding models depending on the CMIP6 project(s)\n",
    "\n",
    "    Parameters\n",
    "    ----------\n",
    "    basepath : str\n",
    "        Inpath where CMIP6 data is stored.\n",
    "    projects : list\n",
    "        Name of CMIP6 projects as strings to check for participating modelling centers.\n",
    "    debug : boolean\n",
    "        Controls print statements. The default is False.\n",
    "\n",
    "    Returns\n",
    "    -------\n",
    "    allmodels : dict\n",
    "        All participating models sorted by modelling centers.\n",
    "        allmodels = {modelcenter : list of models}\n",
    "\n",
    "    \"\"\" \n",
    "\n",
    "    allmodels = {}  # Dictionary to store model centers and their corresponding models\n",
    "    \n",
    "    # Step 1: Initialize the dictionary with model centers for each project\n",
    "    for project in projects:\n",
    "        modelcenters = [os.path.basename(x) for x in glob.glob(f\"{basepath}/{project}/*\")]\n",
    "        for modelcenter in modelcenters:\n",
    "            allmodels[modelcenter] = []  # Initialize each model center with an empty list\n",
    "\n",
    "    # Step 2: Populate the models for each model center across CMIP and ScenarioMIP projects\n",
    "    for modelcenter in allmodels.keys():\n",
    "        for project in projects:\n",
    "            # Get the list of models for the current model center and project\n",
    "            models = [os.path.basename(x) for x in glob.glob(f\"{basepath}/{project}/{modelcenter}/*\")]\n",
    "            \n",
    "            # Add models to the dictionary if they are not already present\n",
    "            for model in models:\n",
    "                if model not in allmodels[modelcenter]:\n",
    "                    if debug:\n",
    "                        print(model)  # Debugging output for new models\n",
    "                    allmodels[modelcenter].append(model)\n",
    "    \n",
    "    \n",
    "    # Step 3: Calculate and print summary statistics\n",
    "    number = 0\n",
    "    for modelcenter in list(allmodels.keys()):\n",
    "        number += len(allmodels[modelcenter])  # Count total models\n",
    "            \n",
    "    print(\"Found\", number, \"models from\", len(list(allmodels.keys())), \"differnt modelcenters in\", projects)\n",
    "\n",
    "    return allmodels"
   ]
  },
  {
   "cell_type": "markdown",
   "metadata": {},
   "source": [
    "### Copy grid-area file"
   ]
  },
  {
   "cell_type": "code",
   "execution_count": 7,
   "metadata": {},
   "outputs": [],
   "source": [
    "def copy_areacellx(areafiles, model, grid_var):\n",
    "    \"\"\"\n",
    "    Copy areacello/a files to outpath and set missing values to NaN.\n",
    "    Includes a special treatment for FGOALS-f3-L and FGOALS-g3.\n",
    "\n",
    "    Parameters\n",
    "    ----------\n",
    "    areafiles : list\n",
    "        All available areacello/a files.\n",
    "    model : string\n",
    "        Model name for file naming.\n",
    "    grid_var : string\n",
    "        Either \"areacello\" or \"areacella\" (depending on the areafiles).\n",
    "\n",
    "    Returns\n",
    "    -------\n",
    "    None.\n",
    "\n",
    "    \"\"\"\n",
    "    \n",
    "    # Initialize an empty list to store unique grid types\n",
    "    grid_list = []\n",
    "\n",
    "    # Check if the model requires special treatment\n",
    "    # For specific models (FGOALS-f3-L and FGOALS-g3), set special processing options\n",
    "    if model in [\"FGOALS-f3-L\",\"FGOALS-g3\"]:\n",
    "        special_treatment = \"-setctomiss,1.e+35 -invertlat \"\n",
    "    else:\n",
    "        special_treatment = \"\"\n",
    "\n",
    "    # Iterate over all area files\n",
    "    for file in areafiles:\n",
    "        # Extract the grid type from the file name (this is specific to the file name convention)\n",
    "        grid_type = file.split(\"/\")[-1].split(\"_\")[5].split(\".\")[0]\n",
    "        # Add the grid type to the list if it's not already included\n",
    "        if grid_type not in grid_list:\n",
    "            grid_list.append(grid_type)\n",
    "        # Construct the output file path based on model, variable, and grid type\n",
    "        areafile = f\"{outpath}{model}_{grid_var}_{grid_type}.nc\"\n",
    "\n",
    "        # Check if the output file already exists. If not, proceed to copy and process it\n",
    "        if not os.path.isfile(areafile):    \n",
    "            try: \n",
    "                # Use CDO to process and copy the file\n",
    "                # - Renames coordinate variables  (longitude -> lon, latitude -> lat)\n",
    "                # - Sets missing values to NaN and applies special treatments if necessary\n",
    "                cdo.copy(input =\"-chname,longitude,lon -chname,latitude,lat -setmissval,nan -setctomiss,0 -setattribute,\"+grid_var+\"@comment='provided gridfile' \"+special_treatment+ file, output = areafile)\n",
    "                \n",
    "                # Confirm success by checking if the output file was created\n",
    "                if os.path.isfile(areafile):\n",
    "                    print(\"... copy\",grid_var, \"as\",areafile)\n",
    "            except Exception as e:\n",
    "                print(e)\n",
    "                print(\"!!! failed to copy: \",grid_var, modelcenter, model)\n",
    "                \n",
    "    # Verify if all expected grid types were successfully processed            \n",
    "    for grid_type in grid_list:\n",
    "        areafile = f\"{outpath}{model}_{grid_var}_{grid_type}.nc\"\n",
    "        if not os.path.isfile(areafile):\n",
    "            print(\"!!! failed to get\", areafile)"
   ]
  },
  {
   "cell_type": "markdown",
   "metadata": {},
   "source": [
    "### Calculate grid-area with cdo"
   ]
  },
  {
   "cell_type": "code",
   "execution_count": 6,
   "metadata": {},
   "outputs": [],
   "source": [
    "def calc_areacellx_cdo(sicfiles, model, grid_var):\n",
    "    \n",
    "    \"\"\"\n",
    "    Create grid-area file using CDO's \"gridarea\".\n",
    "    \n",
    "    Parameters\n",
    "    ----------\n",
    "    sicfiles : list\n",
    "        All available sea-ice area files.\n",
    "    model : string\n",
    "        Model name for file naming.\n",
    "    grid_var : string\n",
    "        Either \"areacello\" or \"areacella\" (depending on the sicfiles).\n",
    "\n",
    "    Returns\n",
    "    -------\n",
    "    None.\n",
    "\n",
    "    \"\"\"\n",
    "\n",
    "    # Initialize an empty list to store unique grid types\n",
    "    grid_list = []\n",
    "\n",
    "    # Iterate over all SIC files\n",
    "    for file in sicfiles:\n",
    "        # Extract the grid type from the file name (this is specific to the file name convention)\n",
    "        grid_type = file.split(\"/\")[-1].split(\"_\")[5].split(\".\")[0]\n",
    "        # Add the grid type to the list if it's not already included\n",
    "        if grid_type not in grid_list:\n",
    "            grid_list.append(grid_type)\n",
    "            \n",
    "        # Construct the output file path based on model, variable, and grid type\n",
    "        areafile_calc = outpath+model+'_'+grid_var+'_'+grid_type+'_calc.nc'\n",
    "        \n",
    "        if not os.path.isfile(areafile_calc):    \n",
    "            try: \n",
    "                # Use CDO to process and copy the file\n",
    "                # - calculates the gridarea from the SIC file\n",
    "                # - Renames coordinate variables  (longitude -> lon, latitude -> lat)\n",
    "                # - Sets missing values to NaN and applies special treatments if necessary\n",
    "                cdo.chname(\"cell_area\", grid_var, input =f\"-chname,longitude,lon -chname,latitude,lat -setmissval,nan -setctomiss,0 -setattribute,cell_area@comment='gridfile calculated (via cdo gridarea)' -gridarea -selname,{var} \"+file, output = areafile_calc)\n",
    "                if os.path.isfile(areafile_calc):\n",
    "                    print(\"... calculate\",grid_var, \"with cdo as\",areafile_calc)\n",
    "            except Exception as e:\n",
    "                print(e)\n",
    "                print(\"!!! failed to calculate with cdo: \",grid_var, modelcenter, model)\n",
    "                \n",
    "    for grid_type in grid_list:\n",
    "        areafile_calc = outpath+model+'_'+grid_var+'_'+grid_type+'_calc.nc'\n",
    "        if not os.path.isfile(areafile_calc):\n",
    "            print(\"!!! cdo failed to get\", areafile_calc)"
   ]
  },
  {
   "cell_type": "markdown",
   "metadata": {},
   "source": [
    "## Loop"
   ]
  },
  {
   "cell_type": "code",
   "execution_count": 42,
   "metadata": {
    "tags": []
   },
   "outputs": [
    {
     "name": "stdout",
     "output_type": "stream",
     "text": [
      "Found 74 models from 33 differnt modelcenters in ['CMIP', 'ScenarioMIP']\n",
      "DONE\n"
     ]
    }
   ],
   "source": [
    "allmodels   = Model_Search_by_Project(basepath,[\"CMIP\",\"ScenarioMIP\"])\n",
    "\n",
    "for modelcenter in tqdm(list(allmodels.keys())[:], leave=True):\n",
    "    for model in allmodels[modelcenter]:\n",
    "        print(modelcenter, model)\n",
    "        availability_area = False\n",
    "        availability_sic  = False\n",
    "        \n",
    "        for scenario in scenarios:\n",
    "            areafiles     = glob.glob(basepath+subfolders[scenario]+'/'+modelcenter+'/'+model+'/'+scenario+'/*/*/'+grid_var+'/*/*/*.nc')\n",
    "            sicfiles      = glob.glob(basepath+subfolders[scenario]+'/'+modelcenter+'/'+model+'/'+scenario+f'/*/*/{var}/*/*/*.nc')\n",
    "            \n",
    "            if len(areafiles)>0: #----------------------------------------------------- copy areacell file\n",
    "                copy_areacellx(areafiles, model, grid_var)\n",
    "                availability_area = True\n",
    "            if len(sicfiles)>0:  #----------------------------------------------------- calc areacell from sic file\n",
    "                calc_areacellx_cdo(sicfiles, model, grid_var)\n",
    "                availability_sic  = True\n",
    "                \n",
    "        if not availability_area:\n",
    "            print(\". No areacell files\")\n",
    "        if not availability_sic:\n",
    "            print(\". No siconc files\")\n",
    "print(\"DONE\")"
   ]
  },
  {
   "cell_type": "markdown",
   "metadata": {},
   "source": [
    "# Control"
   ]
  },
  {
   "cell_type": "markdown",
   "metadata": {
    "jp-MarkdownHeadingCollapsed": true
   },
   "source": [
    "## Check if gridareas are missing compared to last time"
   ]
  },
  {
   "cell_type": "code",
   "execution_count": 7,
   "metadata": {},
   "outputs": [
    {
     "name": "stdout",
     "output_type": "stream",
     "text": [
      "2\n",
      "CAS-ESM2-0_areacello_gn.nc\n",
      "ICON-ESM-LR_areacella_gn.nc\n"
     ]
    }
   ],
   "source": [
    "new = [x.split(\"/\")[-1] for x in glob.glob(outpath+\"*\")]\n",
    "\n",
    "old = [x.split(\"/\")[-1] for x in glob.glob('/work/uo1227/DATA/modelling/CMIP6/gridareas/'+\"*\")]\n",
    "#print(old)\n",
    "\n",
    "print(len(new)-len(old))\n",
    "for o in old:\n",
    "    if o not in new:\n",
    "        print(o)\n",
    "        \n",
    "for n in new:\n",
    "    if n not in old:\n",
    "        print(n)"
   ]
  },
  {
   "cell_type": "markdown",
   "metadata": {
    "jp-MarkdownHeadingCollapsed": true
   },
   "source": [
    "## Create modellist"
   ]
  },
  {
   "cell_type": "code",
   "execution_count": 9,
   "metadata": {},
   "outputs": [
    {
     "name": "stdout",
     "output_type": "stream",
     "text": [
      "['ACCESS-CM2', 'ACCESS-ESM1-5', 'AWI-CM-1-1-MR', 'AWI-ESM-1-1-LR', 'BCC-CSM2-MR', 'BCC-ESM1', 'CAMS-CSM1-0', 'CAS-ESM2-0', 'CESM2', 'CESM2-FV2', 'CESM2-WACCM', 'CESM2-WACCM-FV2', 'CIESM', 'CMCC-CM2-HR4', 'CMCC-CM2-SR5', 'CMCC-ESM2', 'CNRM-CM6-1', 'CNRM-CM6-1-HR', 'CNRM-ESM2-1', 'CanESM5', 'CanESM5-CanOE', 'E3SM-1-0', 'E3SM-1-1', 'E3SM-1-1-ECA', 'EC-Earth3', 'EC-Earth3-AerChem', 'EC-Earth3-CC', 'EC-Earth3-LR', 'EC-Earth3-Veg', 'EC-Earth3-Veg-LR', 'FGOALS-f3-L', 'FGOALS-g3', 'FIO-ESM-2-0', 'GFDL-CM4', 'GFDL-ESM4', 'GISS-E2-1-G', 'GISS-E2-1-G-CC', 'GISS-E2-1-H', 'GISS-E2-2-G', 'HadGEM3-GC31-LL', 'HadGEM3-GC31-MM', 'ICON-ESM-LR', 'INM-CM4-8', 'INM-CM5-0', 'IPSL-CM5A2-INCA', 'IPSL-CM6A-LR', 'IPSL-CM6A-LR-INCA', 'KIOST-ESM', 'MCM-UA-1-0', 'MIROC-ES2L', 'MIROC6', 'MPI-ESM-1-2-HAM', 'MPI-ESM1-2-HR', 'MPI-ESM1-2-LR', 'MRI-ESM2-0', 'NESM3', 'NorCPM1', 'NorESM1-F', 'NorESM2-LM', 'NorESM2-MM', 'SAM0-UNICON', 'TaiESM1', 'UKESM1-0-LL']\n",
      "63\n",
      "Available models: 63\n",
      "   61 available on ocean grid\n",
      "   53 available on atm grid\n",
      "Available different grids: ['gn', 'gr2', 'gr', 'gr1']\n"
     ]
    }
   ],
   "source": [
    "grid_diffs = []\n",
    "modellist  = []\n",
    "\n",
    "grid_dicto = {}\n",
    "grid_dicta = {}\n",
    "\n",
    "files = glob.glob(outpath+\"*\")\n",
    "for file in files[:]: \n",
    "    name  = file.split(\"/\")[-1]\n",
    "    model  = name.split(\"_\")[0]\n",
    "    domain = name.split(\"_\")[1]\n",
    "    grid   = name.split(\"_\")[2].split(\".\")[0]\n",
    "    \n",
    "    if grid not in grid_diffs: \n",
    "        grid_diffs.append(grid)\n",
    "    if domain == \"areacello\":\n",
    "        grid_dicto[model] = grid\n",
    "    if domain == \"areacella\":\n",
    "        grid_dicta[model] = grid\n",
    "    if model not in modellist: \n",
    "        modellist.append(model)\n",
    "        \n",
    "\n",
    "modellist.sort()\n",
    "print(modellist)\n",
    "print(len(modellist))\n",
    "print(\"Available models:\", len(modellist))\n",
    "print(f\"   {len(list(grid_dicto.keys()))} available on ocean grid\")\n",
    "print(f\"   {len(list(grid_dicta.keys()))} available on atm grid\")\n",
    "print(\"Available different grids:\", grid_diffs)\n"
   ]
  },
  {
   "cell_type": "code",
   "execution_count": null,
   "metadata": {},
   "outputs": [],
   "source": []
  }
 ],
 "metadata": {
  "kernelspec": {
   "display_name": "1 Python 3 (based on the module python3/2023.01)",
   "language": "python",
   "name": "python3_2023_01"
  },
  "language_info": {
   "codemirror_mode": {
    "name": "ipython",
    "version": 3
   },
   "file_extension": ".py",
   "mimetype": "text/x-python",
   "name": "python",
   "nbconvert_exporter": "python",
   "pygments_lexer": "ipython3",
   "version": "3.10.10"
  },
  "toc": {
   "base_numbering": 1,
   "nav_menu": {},
   "number_sections": true,
   "sideBar": true,
   "skip_h1_title": false,
   "title_cell": "Table of Contents",
   "title_sidebar": "Contents",
   "toc_cell": false,
   "toc_position": {},
   "toc_section_display": true,
   "toc_window_display": true
  },
  "varInspector": {
   "cols": {
    "lenName": 16,
    "lenType": 16,
    "lenVar": 40
   },
   "kernels_config": {
    "python": {
     "delete_cmd_postfix": "",
     "delete_cmd_prefix": "del ",
     "library": "var_list.py",
     "varRefreshCmd": "print(var_dic_list())"
    },
    "r": {
     "delete_cmd_postfix": ") ",
     "delete_cmd_prefix": "rm(",
     "library": "var_list.r",
     "varRefreshCmd": "cat(var_dic_list()) "
    }
   },
   "types_to_exclude": [
    "module",
    "function",
    "builtin_function_or_method",
    "instance",
    "_Feature"
   ],
   "window_display": false
  }
 },
 "nbformat": 4,
 "nbformat_minor": 4
}
