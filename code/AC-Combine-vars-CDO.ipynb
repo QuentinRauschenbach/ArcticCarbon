{
 "cells": [
  {
   "cell_type": "markdown",
   "id": "44de031b-86db-4143-8da7-c315799480dd",
   "metadata": {},
   "source": [
    "# Combine base variables "
   ]
  },
  {
   "cell_type": "markdown",
   "id": "94404307-51ba-4b9c-a9a7-6d8649e2493f",
   "metadata": {},
   "source": [
    "This Notebook provides code to calculate the sum or difference of two variables in case it is not provided by the model itself.\\\n",
    "E.g. gpp can also be calculated as the sum of npp and ra.\n",
    "\n",
    "It requires the preprocessed data from the ```AC-loop.ipynb```"
   ]
  },
  {
   "cell_type": "code",
   "execution_count": 8,
   "id": "1e80b1ce-26aa-4fa4-a9b4-e679c4b21256",
   "metadata": {},
   "outputs": [],
   "source": [
    "from cdo import Cdo\n",
    "from tqdm import tqdm \n",
    "import logging\n",
    "import glob\n",
    "import os\n",
    "\n",
    "# Load own functions\n",
    "import functions.custom_logger_functions as lgfct\n",
    "\n",
    "cdo = Cdo()"
   ]
  },
  {
   "cell_type": "code",
   "execution_count": 2,
   "id": "8af1dcf8-66e2-4f87-94d9-9cab5a8f9cce",
   "metadata": {},
   "outputs": [],
   "source": [
    "# Select dimension of output data\n",
    "dimensions = \"1D\" # \"1D\" or \"2D\"\n",
    "outpath   = f\"/work/uo1227/u301557/ArcticCarbon/data/{dimensions}/\"                        # test outpath\n",
    "\n",
    "scenarios = [\"historical\", \"ssp126\", \"ssp245\", \"ssp370\", \"ssp585\"]\n",
    "\n",
    "logging_level = \"warning\"\n",
    "logger = lgfct.build_terminal_logger(logging_level, logger_name=\"processing\")"
   ]
  },
  {
   "cell_type": "code",
   "execution_count": 3,
   "id": "6710eb16-a367-4aa3-9eb6-3a739b928a14",
   "metadata": {},
   "outputs": [],
   "source": [
    "def modellist_from_files(files, split_chr=\"_\", split_num=-4):\n",
    "    \"\"\"\n",
    "    Extracts unique model names from a list of file names based on specified delimiters and index.\n",
    "\n",
    "    Parameters:\n",
    "    - files (list of str): A list of file names to process.\n",
    "    - split_chr (str, optional): The character used to split the file names into components. Default is \"_\".\n",
    "    - split_num (int, optional): The index of the segment to extract after splitting. Default is -4 (fourth-last segment).\n",
    "\n",
    "    Returns:\n",
    "    - set: A set of unique model names extracted from the file names.\n",
    "\n",
    "    Example:\n",
    "        >>> files = [\"ra_masked_TaiESM1_r1i1p1f1_ssp585_2D.nc\", \"ra_masked_UKESM1-0-LL_r1i1p1f2_historical_2D.nc\", \"ra_masked_UKESM1-0-LL_r1i1p1f2_ssp126_2D.nc\"]\n",
    "        >>> modellist_from_files(files)\n",
    "        {'TaiESM1', 'UKESM1-0-LL'}\n",
    "\n",
    "    \"\"\"\n",
    "    \n",
    "    modellist = []\n",
    "    for file in files:\n",
    "        model = file.split(split_chr)[split_num]\n",
    "        modellist.append(model)\n",
    "        \n",
    "    return set(modellist)"
   ]
  },
  {
   "cell_type": "code",
   "execution_count": 4,
   "id": "47c24729-5c8d-43bd-91b8-acc2ae02058c",
   "metadata": {},
   "outputs": [],
   "source": [
    "def file_existence(filepath: str, logger: logging.Logger):\n",
    "    \"\"\"\n",
    "    Checks if a file exists and logs a message accordingly.\n",
    "\n",
    "    Parameters:\n",
    "    - filepath (str): The path to the file to check.\n",
    "    - logger (logging.Logger): The logger object to use for logging messages.\n",
    "\n",
    "    \"\"\"\n",
    "\n",
    "    filename = filepath.split(\"/\")[-1]\n",
    "\n",
    "    if os.path.isfile(filepath):\n",
    "        logger.debug(f\"File '{filename}' exists.\")\n",
    "    else:\n",
    "        logger.error(f\"File '{filename}' does not exist.\")"
   ]
  },
  {
   "cell_type": "code",
   "execution_count": 5,
   "id": "196652fb-e2d7-4b22-a014-db404c09a8db",
   "metadata": {},
   "outputs": [],
   "source": [
    "def simple_cdo_operation(var1, var2, result, operation, outpath, regions=[\"masked\"], scenarios=[\"historical\"]):\n",
    "    \"\"\"\n",
    "    Perform simple Climate Data Operators (CDO) operations on netCDF files for specified variables, regions, and scenarios.\n",
    "\n",
    "    This function identifies common models with data for two specified variables and performs a CDO operation \n",
    "    (addition or subtraction) to generate a new result variable. Output files are created only if they do not already exist.\n",
    "\n",
    "    Parameters:\n",
    "    - var1 (str): The name of the first variable.\n",
    "    - var2 (str): The name of the second variable.\n",
    "    - result (str): The name of the result variable to be generated.\n",
    "    - operation (str): The operation to perform, either \"add\" or \"sub\".\n",
    "    - outpath (str): The base directory where input files are located and output files will be saved.\n",
    "    - regions (list of str, optional): A list of region identifiers to process. Default is [\"masked\"].\n",
    "    - scenarios (list of str, optional): A list of scenario identifiers to process. Default is [\"historical\"].\n",
    "\n",
    "    Returns:\n",
    "        None\n",
    "\n",
    "    \"\"\"\n",
    "    if not operation in [\"add\", \"sub\"]:\n",
    "        logger.error(f\"Operation {operation} not defined. Has to be either add or sub\")\n",
    "        return\n",
    "    else:\n",
    "        for region in regions:\n",
    "            for scenario in scenarios:\n",
    "                \n",
    "                # Find models that have files for both variables\n",
    "                files1    = sorted(glob.glob(outpath + f\"{var1}/{var1}*{region}*{scenario}_{dimensions}.nc\"))\n",
    "                files2    = sorted(glob.glob(outpath + f\"{var2}/{var2}*{region}*{scenario}_{dimensions}.nc\"))\n",
    "                modellist = list(modellist_from_files(files1) & modellist_from_files(files2))\n",
    "                logger.info(modellist)\n",
    "\n",
    "                #Loop through those models\n",
    "                for model in modellist[:]:\n",
    "                    logger.info(model)\n",
    "                    # Find all files from each model\n",
    "                    files1 = sorted(glob.glob(outpath + f\"{var1}/{var1}*{region}*{model}_*{scenario}_{dimensions}.nc\"))\n",
    "                    \n",
    "                    for file1 in files1:\n",
    "                        member   = file1.split(\"_\")[-3]\n",
    "                        logger.debug(file1)\n",
    "                    \n",
    "                        outputfile = outpath + f\"{result}/{result}_{region}_{model}_{member}_{scenario}_{dimensions}.nc\"\n",
    "                        file2      = outpath + f\"{var2}/{var2}_{region}_{model}_{member}_{scenario}_{dimensions}.nc\"\n",
    "                        \n",
    "                        if not os.path.isfile(outputfile): # check if file exsists\n",
    "                            if os.path.isfile(file2): # check if the var2 is available for the same member as var1\n",
    "                                cdo.copy(input = f\"-chname,{var1},{result} -{operation}  {file1} {file2}\", output=outputfile)\n",
    "                                file_existence(outputfile, logger)\n",
    "                            else:\n",
    "                                logger.warning(f\"Members don't match for: {var1},{var2} {model} {member} {scenario}\")\n",
    "                                files2 = glob.glob(outpath + f\"{var2}/{var2}*{region}*{model}_*{scenario}.nc\")\n",
    "                                logger.debug(f\"   \" + str(files2))\n",
    "                        else:\n",
    "                            logger.debug(\"--- File already exists\")"
   ]
  },
  {
   "cell_type": "code",
   "execution_count": null,
   "id": "89e758d6-5ebe-4f78-a4af-8e871356e9c9",
   "metadata": {},
   "outputs": [
    {
     "name": "stderr",
     "output_type": "stream",
     "text": [
      "Members don't match for: npp,ra GISS-E2-1-H r1i1p1f1 historical\n",
      "Members don't match for: npp,ra CESM2-WACCM-FV2 r1i1p1f1 historical\n",
      "Members don't match for: npp,ra CanESM5-CanOE r2i1p2f1 ssp126\n",
      "Members don't match for: npp,ra CanESM5 r2i1p1f1 ssp126\n",
      "Members don't match for: npp,ra CanESM5-CanOE r3i1p2f1 ssp245\n",
      "Members don't match for: npp,ra CanESM5 r2i1p1f1 ssp245\n",
      "Members don't match for: npp,ra GISS-E2-1-G r1i1p3f1 ssp370\n",
      "Members don't match for: npp,ra IPSL-CM6A-LR r2i1p1f1 ssp585\n",
      "Members don't match for: npp,rh CESM2-WACCM-FV2 r3i1p1f1 historical\n",
      "Members don't match for: npp,rh GISS-E2-1-G r1i1p1f1 historical\n",
      "Members don't match for: npp,rh GISS-E2-1-G r1i1p1f2 historical\n",
      "Members don't match for: npp,rh CanESM5-CanOE r2i1p2f1 ssp126\n",
      "Members don't match for: npp,rh CanESM5 r1i1p2f1 ssp126\n",
      "Members don't match for: npp,rh CanESM5-CanOE r3i1p2f1 ssp245\n",
      "Members don't match for: npp,rh CanESM5 r2i1p1f1 ssp245\n",
      "Members don't match for: npp,rh IPSL-CM6A-LR r2i1p1f1 ssp585\n"
     ]
    }
   ],
   "source": [
    "# calculate GPP\n",
    "simple_cdo_operation(var1=\"npp\", var2=\"ra\", result=\"gpp\", operation=\"add\", \n",
    "                     outpath=outpath, regions=[\"masked\"], scenarios=[\"historical\", \"ssp126\", \"ssp245\", \"ssp370\", \"ssp585\"])\n",
    "\n",
    "# calculate NEP\n",
    "simple_cdo_operation(var1=\"npp\", var2=\"rh\", result=\"nep\", operation=\"sub\", \n",
    "                     outpath=outpath, regions=[\"masked\"], scenarios=[\"historical\", \"ssp126\", \"ssp245\", \"ssp370\", \"ssp585\"])\n",
    "\n",
    "# calculate NPP\n",
    "simple_cdo_operation(var1=\"gpp\", var2=\"ra\", result=\"npp\", operation=\"sub\", \n",
    "                     outpath=outpath, regions=[\"masked\"], scenarios=[\"historical\", \"ssp126\", \"ssp245\", \"ssp370\", \"ssp585\"])\n",
    "\n",
    "# calculate terrestrial carbon\n",
    "simple_cdo_operation(var1=\"cSoil\", var2=\"cVeg\", result=\"terra_carbon\", operation=\"add\", \n",
    "                     outpath=outpath, regions=[\"masked\"], scenarios=[\"historical\", \"ssp126\", \"ssp245\", \"ssp370\", \"ssp585\"])"
   ]
  },
  {
   "cell_type": "code",
   "execution_count": null,
   "id": "b06e9667-462e-42aa-b227-29cc59880e70",
   "metadata": {},
   "outputs": [],
   "source": []
  }
 ],
 "metadata": {
  "kernelspec": {
   "display_name": "1 Python 3 (based on the module python3/2023.01)",
   "language": "python",
   "name": "python3_2023_01"
  },
  "language_info": {
   "codemirror_mode": {
    "name": "ipython",
    "version": 3
   },
   "file_extension": ".py",
   "mimetype": "text/x-python",
   "name": "python",
   "nbconvert_exporter": "python",
   "pygments_lexer": "ipython3",
   "version": "3.10.10"
  }
 },
 "nbformat": 4,
 "nbformat_minor": 5
}
